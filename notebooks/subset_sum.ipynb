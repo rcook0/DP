{
  "cells": [
    {
      "cell_type": "markdown",
      "metadata": {},
      "source": [
        "# Subset Sum\n\nState: `dp[s] = True if sum s achievable` (boolean).\n"
      ]
    },
    {
      "cell_type": "code",
      "metadata": {},
      "execution_count": null,
      "outputs": [],
      "source": [
        "def subset_sum(nums, target):\n    dp=[False]*(target+1); dp[0]=True\n    for x in nums:\n        for s in range(target, x-1, -1):\n            dp[s] = dp[s] or dp[s-x]\n    return dp[target], dp\n\nnums=[3,34,4,12,5,2]; target=9\nans, dp = subset_sum(nums, target); print(\"Reachable:\", ans)\n"
      ]
    },
    {
      "cell_type": "code",
      "metadata": {},
      "execution_count": null,
      "outputs": [],
      "source": [
        "import matplotlib.pyplot as plt\nvals=[1 if x else 0 for x in dp]\nplt.bar(range(len(vals)), vals)\nplt.title(\"Subset Sum DP (boolean)\"); plt.xlabel(\"Sum\"); plt.ylabel(\"Reachable(1/0)\")\nplt.show()\n"
      ]
    }
  ],
  "metadata": {
    "kernelspec": {
      "display_name": "Python 3",
      "language": "python",
      "name": "python3"
    },
    "language_info": {
      "name": "python"
    }
  },
  "nbformat": 4,
  "nbformat_minor": 5
}