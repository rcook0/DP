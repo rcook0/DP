{
  "cells": [
    {
      "cell_type": "markdown",
      "metadata": {},
      "source": [
        "# Sequence Alignment (Needleman–Wunsch)\n\nGlobal alignment with match/mismatch/gap and traceback.\n"
      ]
    },
    {
      "cell_type": "code",
      "metadata": {},
      "execution_count": null,
      "outputs": [],
      "source": [
        "def needleman_wunsch_align(a,b,match=1,mismatch=-1,gap=-2):\n    n,m=len(a),len(b)\n    dp=[[0]*(m+1) for _ in range(n+1)]\n    tb=[[0]*(m+1) for _ in range(n+1)]  # 0 diag, 1 up, 2 left\n    for i in range(1,n+1): dp[i][0]=i*gap; tb[i][0]=1\n    for j in range(1,m+1): dp[0][j]=j*gap; tb[0][j]=2\n    for i in range(1,n+1):\n        for j in range(1,m+1):\n            sc=match if a[i-1]==b[j-1] else mismatch\n            diag=dp[i-1][j-1]+sc; up=dp[i-1][j]+gap; left=dp[i][j-1]+gap\n            best=max(diag,up,left); dp[i][j]=best\n            tb[i][j]=0 if best==diag else (1 if best==up else 2)\n    i,j=n,m; aa=[]; bb=[]\n    while i>0 or j>0:\n        if i>0 and j>0 and tb[i][j]==0:\n            aa.append(a[i-1]); bb.append(b[j-1]); i-=1; j-=1\n        elif i>0 and (j==0 or tb[i][j]==1):\n            aa.append(a[i-1]); bb.append('-'); i-=1\n        else:\n            aa.append('-'); bb.append(b[j-1]); j-=1\n    return dp[n][m], ''.join(reversed(aa)), ''.join(reversed(bb)), dp\n\nscore, a_aln, b_aln, dp = needleman_wunsch_align(\"GATTACA\",\"GCATGCU\")\nprint(\"Score:\", score); print(a_aln); print(b_aln)\n"
      ]
    },
    {
      "cell_type": "code",
      "metadata": {},
      "execution_count": null,
      "outputs": [],
      "source": [
        "import matplotlib.pyplot as plt, numpy as np\nplt.imshow(np.array(dp), cmap=\"coolwarm\")\nplt.colorbar(label=\"Score\"); plt.title(\"Needleman–Wunsch DP Table\")\nplt.show()\n"
      ]
    }
  ],
  "metadata": {
    "kernelspec": {
      "display_name": "Python 3",
      "language": "python",
      "name": "python3"
    },
    "language_info": {
      "name": "python"
    }
  },
  "nbformat": 4,
  "nbformat_minor": 5
}