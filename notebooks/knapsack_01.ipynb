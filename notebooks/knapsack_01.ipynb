{
  "cells": [
    {
      "cell_type": "markdown",
      "metadata": {},
      "source": [
        "# 0/1 Knapsack\n\nState: `dp[w] = max value at capacity w` (1D optimized).\n"
      ]
    },
    {
      "cell_type": "code",
      "metadata": {},
      "execution_count": null,
      "outputs": [],
      "source": [
        "def knapsack(values, weights, W):\n    dp=[0]*(W+1)\n    for v,w in zip(values,weights):\n        for cap in range(W, w-1, -1):\n            dp[cap]=max(dp[cap], dp[cap-w]+v)\n    return dp[W], dp\n\nvalues=[60,100,120]; weights=[10,20,30]; W=50\nans, dp=knapsack(values, weights, W); print(\"Best:\", ans)\n"
      ]
    },
    {
      "cell_type": "code",
      "metadata": {},
      "execution_count": null,
      "outputs": [],
      "source": [
        "import matplotlib.pyplot as plt\nplt.plot(range(len(dp)), dp, marker='o')\nplt.title(\"0/1 Knapsack DP by Capacity\"); plt.xlabel(\"Capacity\"); plt.ylabel(\"Max Value\")\nplt.show()\n"
      ]
    }
  ],
  "metadata": {
    "kernelspec": {
      "display_name": "Python 3",
      "language": "python",
      "name": "python3"
    },
    "language_info": {
      "name": "python"
    }
  },
  "nbformat": 4,
  "nbformat_minor": 5
}