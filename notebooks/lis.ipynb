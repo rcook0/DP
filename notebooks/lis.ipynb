{
  "cells": [
    {
      "cell_type": "markdown",
      "metadata": {},
      "source": [
        "# Longest Increasing Subsequence\n\nPatience sorting (O(n log n)) tails method.\n"
      ]
    },
    {
      "cell_type": "code",
      "metadata": {},
      "execution_count": null,
      "outputs": [],
      "source": [
        "import bisect\ndef lis_length(arr):\n    tails=[]\n    for x in arr:\n        i=bisect.bisect_left(tails, x)\n        if i==len(tails): tails.append(x)\n        else: tails[i]=x\n    return len(tails), tails\n\narr=[10,9,2,5,3,7,101,18]\nlength, tails = lis_length(arr); print(\"LIS length:\", length, \"tails:\", tails)\n"
      ]
    },
    {
      "cell_type": "code",
      "metadata": {},
      "execution_count": null,
      "outputs": [],
      "source": [
        "import matplotlib.pyplot as plt\nplt.stem(range(len(tails)), tails, use_line_collection=True)\nplt.title(\"LIS tails (lengths)\")\nplt.xlabel(\"k -> subseq length k+1\"); plt.ylabel(\"min tail value\")\nplt.show()\n"
      ]
    }
  ],
  "metadata": {
    "kernelspec": {
      "display_name": "Python 3",
      "language": "python",
      "name": "python3"
    },
    "language_info": {
      "name": "python"
    }
  },
  "nbformat": 4,
  "nbformat_minor": 5
}