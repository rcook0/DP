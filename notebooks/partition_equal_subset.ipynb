{
  "cells": [
    {
      "cell_type": "markdown",
      "metadata": {},
      "source": [
        "# Partition Equal Subset Sum\n\nReduce to subset sum with target sum/2.\n"
      ]
    },
    {
      "cell_type": "code",
      "metadata": {},
      "execution_count": null,
      "outputs": [],
      "source": [
        "def can_partition(nums):\n    total=sum(nums)\n    if total%2: return False, None\n    target=total//2\n    dp=[False]*(target+1); dp[0]=True\n    for x in nums:\n        for s in range(target, x-1, -1):\n            dp[s]=dp[s] or dp[s-x]\n    return dp[target], dp\n\nnums=[1,5,11,5]\nans, dp = can_partition(nums); print(\"Can partition:\", ans)\n"
      ]
    },
    {
      "cell_type": "code",
      "metadata": {},
      "execution_count": null,
      "outputs": [],
      "source": [
        "import matplotlib.pyplot as plt\nvals=[1 if x else 0 for x in dp]\nplt.bar(range(len(vals)), vals)\nplt.title(\"Equal Partition DP\")\nplt.show()\n"
      ]
    }
  ],
  "metadata": {
    "kernelspec": {
      "display_name": "Python 3",
      "language": "python",
      "name": "python3"
    },
    "language_info": {
      "name": "python"
    }
  },
  "nbformat": 4,
  "nbformat_minor": 5
}