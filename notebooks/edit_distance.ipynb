{
  "cells": [
    {
      "cell_type": "markdown",
      "metadata": {},
      "source": [
        "# Edit Distance (Levenshtein)\n\nState: `dp[i][j] = min edits for a[:i]->b[:j]` (ins/del/rep).\n"
      ]
    },
    {
      "cell_type": "code",
      "metadata": {},
      "execution_count": null,
      "outputs": [],
      "source": [
        "import numpy as np\ndef edit_distance(a,b):\n    n,m=len(a),len(b)\n    dp=np.zeros((n+1,m+1),dtype=int)\n    for i in range(n+1): dp[i,0]=i\n    for j in range(m+1): dp[0,j]=j\n    for i in range(1,n+1):\n        for j in range(1,m+1):\n            cost = 0 if a[i-1]==b[j-1] else 1\n            dp[i,j]=min(dp[i-1,j]+1, dp[i,j-1]+1, dp[i-1,j-1]+cost)\n    return dp[n,m], dp\n\na,b=\"kitten\",\"sitting\"\ndist, dp = edit_distance(a,b); print(\"Distance:\", dist)\n"
      ]
    },
    {
      "cell_type": "code",
      "metadata": {},
      "execution_count": null,
      "outputs": [],
      "source": [
        "import matplotlib.pyplot as plt\nplt.imshow(dp, cmap=\"Reds\", interpolation=\"nearest\")\nplt.colorbar(label=\"Cost\"); plt.title(\"Levenshtein DP Table\")\nplt.show()\n"
      ]
    }
  ],
  "metadata": {
    "kernelspec": {
      "display_name": "Python 3",
      "language": "python",
      "name": "python3"
    },
    "language_info": {
      "name": "python"
    }
  },
  "nbformat": 4,
  "nbformat_minor": 5
}