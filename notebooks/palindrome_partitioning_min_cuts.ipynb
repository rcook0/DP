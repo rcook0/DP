{
  "cells": [
    {
      "cell_type": "markdown",
      "metadata": {},
      "source": [
        "# Palindrome Partitioning (Min Cuts)\n\nState: `dp[i] = min cuts for s[:i+1]`; use palindrome precompute.\n"
      ]
    },
    {
      "cell_type": "code",
      "metadata": {},
      "execution_count": null,
      "outputs": [],
      "source": [
        "def min_cut_pal(s):\n    n=len(s); dp=[0]*n; pal=[[False]*n for _ in range(n)]\n    for i in range(n):\n        best=i\n        for j in range(i+1):\n            if s[j]==s[i] and (i-j<=1 or pal[j+1][i-1]):\n                pal[j][i]=True\n                best = 0 if j==0 else min(best, dp[j-1]+1)\n        dp[i]=best\n    return dp[-1], dp\n\ns=\"aab\"; cuts, dp = min_cut_pal(s); print(\"Min cuts:\", cuts)\n"
      ]
    },
    {
      "cell_type": "code",
      "metadata": {},
      "execution_count": null,
      "outputs": [],
      "source": [
        "import matplotlib.pyplot as plt\nplt.bar(range(len(dp)), dp)\nplt.title(\"Min Cuts per Prefix\"); plt.xlabel(\"Prefix end i\"); plt.ylabel(\"Cuts\")\nplt.show()\n"
      ]
    }
  ],
  "metadata": {
    "kernelspec": {
      "display_name": "Python 3",
      "language": "python",
      "name": "python3"
    },
    "language_info": {
      "name": "python"
    }
  },
  "nbformat": 4,
  "nbformat_minor": 5
}