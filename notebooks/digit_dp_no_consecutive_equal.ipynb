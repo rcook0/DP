{
  "cells": [
    {
      "cell_type": "markdown",
      "metadata": {},
      "source": [
        "# Digit DP (No Consecutive Equal Digits)\n\nState: `dp[pos][tight][prev]` count valid numbers up to N.\n"
      ]
    },
    {
      "cell_type": "code",
      "metadata": {},
      "execution_count": null,
      "outputs": [],
      "source": [
        "from functools import lru_cache\ndef count_no_repeat(N):\n    digs=list(map(int, str(N))); n=len(digs)\n    @lru_cache(None)\n    def dp(pos, tight, prev):\n        if pos==n: return 1\n        limit = digs[pos] if tight else 9\n        ans=0\n        for d in range(0, limit+1):\n            if d==prev: continue\n            ans += dp(pos+1, tight and d==limit, d)\n        return ans\n    return dp(0, True, -1)\n\nprint(\"Count <= 1000:\", count_no_repeat(1000))\n"
      ]
    },
    {
      "cell_type": "code",
      "metadata": {},
      "execution_count": null,
      "outputs": [],
      "source": [
        "import matplotlib.pyplot as plt\n# Simple viz: show counts for 1..5 digits max (approximate upper bounds like 10*9^(k-1))\nks=range(1,6)\napprox=[9*(9**(k-1)) if k>1 else 10 for k in ks]\nplt.plot(list(ks), approx, marker='o')\nplt.title(\"Approx distinct-digit counts by length (rough)\")\nplt.xlabel(\"Digits\"); plt.ylabel(\"Count (approx)\")\nplt.show()\n"
      ]
    }
  ],
  "metadata": {
    "kernelspec": {
      "display_name": "Python 3",
      "language": "python",
      "name": "python3"
    },
    "language_info": {
      "name": "python"
    }
  },
  "nbformat": 4,
  "nbformat_minor": 5
}