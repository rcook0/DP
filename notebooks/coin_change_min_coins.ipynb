{
  "cells": [
    {
      "cell_type": "markdown",
      "metadata": {},
      "source": [
        "# Coin Change (Minimum Coins)\n\nState: `dp[a] = min coins to make amount a`\n\nRecurrence: $dp[a] = \\min_{c\\in coins,a\\ge c}(dp[a-c]+1)$; Base: `dp[0]=0`.\n"
      ]
    },
    {
      "cell_type": "code",
      "metadata": {},
      "execution_count": null,
      "outputs": [],
      "source": [
        "def min_coins(coins, amount):\n    INF=10**9\n    dp=[INF]*(amount+1); dp[0]=0\n    for a in range(1, amount+1):\n        for c in coins:\n            if a>=c: dp[a]=min(dp[a], dp[a-c]+1)\n    return -1 if dp[amount]==INF else dp[amount], dp\n\ncoins=[1,3,4]; amount=23\nans, dp = min_coins(coins, amount)\nprint(\"Answer:\", ans)\n"
      ]
    },
    {
      "cell_type": "code",
      "metadata": {},
      "execution_count": null,
      "outputs": [],
      "source": [
        "import matplotlib.pyplot as plt\nplt.bar(range(len(dp)), dp)\nplt.title(\"Min Coins DP\"); plt.xlabel(\"Amount\"); plt.ylabel(\"Min coins\")\nplt.show()\n"
      ]
    }
  ],
  "metadata": {
    "kernelspec": {
      "display_name": "Python 3",
      "language": "python",
      "name": "python3"
    },
    "language_info": {
      "name": "python"
    }
  },
  "nbformat": 4,
  "nbformat_minor": 5
}