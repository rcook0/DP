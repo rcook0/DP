{
  "cells": [
    {
      "cell_type": "markdown",
      "metadata": {},
      "source": [
        "# Longest Common Subsequence\n\nState: `dp[i][j]` over prefixes; traceback recovers a subsequence.\n"
      ]
    },
    {
      "cell_type": "code",
      "metadata": {},
      "execution_count": null,
      "outputs": [],
      "source": [
        "import numpy as np\ndef lcs_with_trace(a,b):\n    n,m=len(a),len(b)\n    dp=np.zeros((n+1,m+1),dtype=int)\n    for i in range(1,n+1):\n        for j in range(1,m+1):\n            if a[i-1]==b[j-1]: dp[i,j]=dp[i-1,j-1]+1\n            else: dp[i,j]=max(dp[i-1,j],dp[i,j-1])\n    # trace\n    i,j=n,m; out=[]\n    while i>0 and j>0:\n        if a[i-1]==b[j-1]: out.append(a[i-1]); i-=1; j-=1\n        elif dp[i-1,j]>=dp[i,j-1]: i-=1\n        else: j-=1\n    return dp[n,m], ''.join(reversed(out)), dp\n\na,b=\"ABCBDAB\",\"BDCABA\"\nlength, subseq, dp = lcs_with_trace(a,b)\nprint(\"LCS:\", length, subseq)\n"
      ]
    },
    {
      "cell_type": "code",
      "metadata": {},
      "execution_count": null,
      "outputs": [],
      "source": [
        "import matplotlib.pyplot as plt\nplt.imshow(dp, cmap=\"Blues\", interpolation=\"nearest\")\nplt.colorbar(label=\"LCS length\"); plt.title(\"LCS DP Table\")\nplt.show()\n"
      ]
    }
  ],
  "metadata": {
    "kernelspec": {
      "display_name": "Python 3",
      "language": "python",
      "name": "python3"
    },
    "language_info": {
      "name": "python"
    }
  },
  "nbformat": 4,
  "nbformat_minor": 5
}