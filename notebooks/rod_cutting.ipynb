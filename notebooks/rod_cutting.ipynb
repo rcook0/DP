{
  "cells": [
    {
      "cell_type": "markdown",
      "metadata": {},
      "source": [
        "# Rod Cutting\n\nState: `dp[i] = max revenue for length i` using price list.\n"
      ]
    },
    {
      "cell_type": "code",
      "metadata": {},
      "execution_count": null,
      "outputs": [],
      "source": [
        "def rod_cutting(prices, n):\n    dp=[0]*(n+1)\n    for i in range(1,n+1):\n        best=0\n        for cut in range(1,i+1):\n            best=max(best, prices[cut-1] + dp[i-cut])\n        dp[i]=best\n    return dp[n], dp\n\nprices=[1,5,8,9,10,17,17,20]; n=8\nval, dp = rod_cutting(prices, n); print(\"Max revenue:\", val)\n"
      ]
    },
    {
      "cell_type": "code",
      "metadata": {},
      "execution_count": null,
      "outputs": [],
      "source": [
        "import matplotlib.pyplot as plt\nplt.plot(range(len(dp)), dp, marker='o')\nplt.title(\"Rod Cutting DP\"); plt.xlabel(\"Length\"); plt.ylabel(\"Revenue\")\nplt.show()\n"
      ]
    }
  ],
  "metadata": {
    "kernelspec": {
      "display_name": "Python 3",
      "language": "python",
      "name": "python3"
    },
    "language_info": {
      "name": "python"
    }
  },
  "nbformat": 4,
  "nbformat_minor": 5
}