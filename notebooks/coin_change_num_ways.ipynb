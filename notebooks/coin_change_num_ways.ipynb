{
  "cells": [
    {
      "cell_type": "markdown",
      "metadata": {},
      "source": [
        "# Coin Change (Number of Ways)\n\nOrder-insensitive unbounded coin change.\n\nState: `dp[a] = ways to make amount a` with coins processed outer loop.\n"
      ]
    },
    {
      "cell_type": "code",
      "metadata": {},
      "execution_count": null,
      "outputs": [],
      "source": [
        "def num_ways(coins, amount):\n    dp=[0]*(amount+1); dp[0]=1\n    for c in coins:\n        for a in range(c, amount+1):\n            dp[a]+=dp[a-c]\n    return dp[amount], dp\n\ncoins=[1,2,5]; amount=10\nans, dp=num_ways(coins, amount); print(\"Ways:\", ans)\n"
      ]
    },
    {
      "cell_type": "code",
      "metadata": {},
      "execution_count": null,
      "outputs": [],
      "source": [
        "import matplotlib.pyplot as plt\nplt.bar(range(len(dp)), dp)\nplt.title(\"Number of Ways DP\"); plt.xlabel(\"Amount\"); plt.ylabel(\"Ways\")\nplt.show()\n"
      ]
    }
  ],
  "metadata": {
    "kernelspec": {
      "display_name": "Python 3",
      "language": "python",
      "name": "python3"
    },
    "language_info": {
      "name": "python"
    }
  },
  "nbformat": 4,
  "nbformat_minor": 5
}