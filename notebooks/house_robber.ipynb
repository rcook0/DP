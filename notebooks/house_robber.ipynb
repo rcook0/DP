{
  "cells": [
    {
      "cell_type": "markdown",
      "metadata": {},
      "source": [
        "# House Robber\n\nState: `dp[i] = max till i without adjacent` (optimized to two vars).\n"
      ]
    },
    {
      "cell_type": "code",
      "metadata": {},
      "execution_count": null,
      "outputs": [],
      "source": [
        "def house_rob(nums):\n    prev2=0; prev1=0\n    for x in nums:\n        prev2, prev1 = prev1, max(prev1, prev2+x)\n    return prev1\n\nnums=[2,7,9,3,1]; print(\"Max loot:\", house_rob(nums))\n"
      ]
    },
    {
      "cell_type": "code",
      "metadata": {},
      "execution_count": null,
      "outputs": [],
      "source": [
        "import matplotlib.pyplot as plt\nplt.bar(range(len(nums)), nums)\nplt.title(\"House Values\")\nplt.show()\n"
      ]
    }
  ],
  "metadata": {
    "kernelspec": {
      "display_name": "Python 3",
      "language": "python",
      "name": "python3"
    },
    "language_info": {
      "name": "python"
    }
  },
  "nbformat": 4,
  "nbformat_minor": 5
}