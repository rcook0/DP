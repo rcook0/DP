{
  "cells": [
    {
      "cell_type": "markdown",
      "metadata": {},
      "source": [
        "# Painter's Partition\n\nState: `dp[i][k]` min max-load to paint first i boards with k painters.\n"
      ]
    },
    {
      "cell_type": "code",
      "metadata": {},
      "execution_count": null,
      "outputs": [],
      "source": [
        "def painters_partition(arr, k):\n    n=len(arr); pref=[0]\n    for x in arr: pref.append(pref[-1]+x)\n    def seg(i,j): return pref[j]-pref[i]\n    dp=[[0]*(k+1) for _ in range(n+1)]\n    for i in range(1,n+1): dp[i][1]=pref[i]\n    for p in range(2, k+1):\n        for i in range(1, n+1):\n            best=10**18\n            for j in range(i):\n                best=min(best, max(dp[j][p-1], seg(j,i)))\n            dp[i][p]=best\n    return dp[n][k], dp\n\narr=[10,20,30,40]; k=2\nres, dp = painters_partition(arr, k); print(\"Min time:\", res)\n"
      ]
    },
    {
      "cell_type": "code",
      "metadata": {},
      "execution_count": null,
      "outputs": [],
      "source": [
        "import matplotlib.pyplot as plt\narr=[10,20,30,40]\nplt.bar(range(len(arr)), arr)\nplt.title(\"Boards\"); plt.xlabel(\"Index\"); plt.ylabel(\"Length\")\nplt.show()\n"
      ]
    }
  ],
  "metadata": {
    "kernelspec": {
      "display_name": "Python 3",
      "language": "python",
      "name": "python3"
    },
    "language_info": {
      "name": "python"
    }
  },
  "nbformat": 4,
  "nbformat_minor": 5
}