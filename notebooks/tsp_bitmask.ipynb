{
  "cells": [
    {
      "cell_type": "markdown",
      "metadata": {},
      "source": [
        "# Traveling Salesman (Bitmask DP)\n\nState: `dp[mask][i]` min cost visiting mask and ending at i; reconstruct tour.\n"
      ]
    },
    {
      "cell_type": "code",
      "metadata": {},
      "execution_count": null,
      "outputs": [],
      "source": [
        "def tsp_with_path(dist):\n    n=len(dist); INF=10**15\n    dp=[[INF]*n for _ in range(1<<n)]\n    parent=[[ -1]*n for _ in range(1<<n)]\n    dp[1][0]=0\n    for mask in range(1<<n):\n        for u in range(n):\n            if not (mask & (1<<u)): continue\n            cur=dp[mask][u]\n            if cur>=INF: continue\n            for v in range(n):\n                if mask & (1<<v): continue\n                nm=mask|(1<<v); cand=cur+dist[u][v]\n                if cand<dp[nm][v]:\n                    dp[nm][v]=cand; parent[nm][v]=u\n    full=(1<<n)-1\n    best,end=min((dp[full][i]+dist[i][0],i) for i in range(n))\n    tour=[0]*n; mask=full; u=end\n    for idx in range(n-1,-1,-1):\n        tour[idx]=u; pu=parent[mask][u]\n        if pu==-1 and idx!=0: break\n        mask^=(1<<u); u=pu\n    tour.append(0)\n    return best, tour\n\ndist=[[0,10,15,20],[10,0,35,25],[15,35,0,30],[20,25,30,0]]\ncost, tour = tsp_with_path(dist); print(\"Cost:\", cost, \"Tour:\", tour)\n"
      ]
    },
    {
      "cell_type": "code",
      "metadata": {},
      "execution_count": null,
      "outputs": [],
      "source": [
        "# For visualization, we just print; plotting tours requires coordinates.\nprint(\"Tour sequence shown above.\")\n"
      ]
    }
  ],
  "metadata": {
    "kernelspec": {
      "display_name": "Python 3",
      "language": "python",
      "name": "python3"
    },
    "language_info": {
      "name": "python"
    }
  },
  "nbformat": 4,
  "nbformat_minor": 5
}