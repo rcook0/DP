{
  "cells": [
    {
      "cell_type": "markdown",
      "metadata": {},
      "source": [
        "# Egg Dropping\n\nState: `dp[e][f]` min worst-case drops; try all floors (naive DP).\n"
      ]
    },
    {
      "cell_type": "code",
      "metadata": {},
      "execution_count": null,
      "outputs": [],
      "source": [
        "def egg_drop(e,f):\n    dp=[[0]*(f+1) for _ in range(e+1)]\n    for j in range(1,f+1): dp[1][j]=j\n    for i in range(2,e+1):\n        for j in range(1,f+1):\n            best=10**9\n            for x in range(1,j+1):\n                best=min(best, 1+max(dp[i-1][x-1], dp[i][j-x]))\n            dp[i][j]=best\n    return dp[e][f], dp\n\nres, dp = egg_drop(2, 20); print(\"Min drops (2 eggs, 20 floors):\", res)\n"
      ]
    },
    {
      "cell_type": "code",
      "metadata": {},
      "execution_count": null,
      "outputs": [],
      "source": [
        "import matplotlib.pyplot as plt, numpy as np\nplt.imshow(np.array(dp), cmap=\"viridis\")\nplt.colorbar(label=\"Drops\"); plt.title(\"Egg Dropping DP (eggs x floors)\")\nplt.xlabel(\"floors\"); plt.ylabel(\"eggs\")\nplt.show()\n"
      ]
    }
  ],
  "metadata": {
    "kernelspec": {
      "display_name": "Python 3",
      "language": "python",
      "name": "python3"
    },
    "language_info": {
      "name": "python"
    }
  },
  "nbformat": 4,
  "nbformat_minor": 5
}