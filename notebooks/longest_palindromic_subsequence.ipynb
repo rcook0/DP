{
  "cells": [
    {
      "cell_type": "markdown",
      "metadata": {},
      "source": [
        "# Longest Palindromic Subsequence\n\nState: `dp[i][j]` length for s[i..j]`.\n"
      ]
    },
    {
      "cell_type": "code",
      "metadata": {},
      "execution_count": null,
      "outputs": [],
      "source": [
        "import numpy as np\ndef lps(s):\n    n=len(s); dp=[[0]*n for _ in range(n)]\n    for i in range(n): dp[i][i]=1\n    for L in range(2, n+1):\n        for i in range(n-L+1):\n            j=i+L-1\n            if s[i]==s[j]: dp[i][j]=2 if L==2 else dp[i+1][j-1]+2\n            else: dp[i][j]=max(dp[i+1][j], dp[i][j-1])\n    return dp[0][n-1], dp\n\ns=\"bbbab\"; length, dp = lps(s); print(\"LPS length:\", length)\n"
      ]
    },
    {
      "cell_type": "code",
      "metadata": {},
      "execution_count": null,
      "outputs": [],
      "source": [
        "import numpy as np, matplotlib.pyplot as plt\nplt.imshow(np.array(dp), cmap=\"Purples\")\nplt.colorbar(); plt.title(\"LPS DP Table\")\nplt.show()\n"
      ]
    }
  ],
  "metadata": {
    "kernelspec": {
      "display_name": "Python 3",
      "language": "python",
      "name": "python3"
    },
    "language_info": {
      "name": "python"
    }
  },
  "nbformat": 4,
  "nbformat_minor": 5
}