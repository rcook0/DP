{
  "cells": [
    {
      "cell_type": "markdown",
      "metadata": {},
      "source": [
        "# Longest Common Subsequence\n\nFind longest subsequence common to two strings.\n\nState: `dp[i][j] = LCS length of a[:i], b[:j]`\n\nRecurrence: if `a[i-1]==b[j-1]`, then `dp[i][j]=dp[i-1][j-1]+1` else max of top/left.\n"
      ]
    },
    {
      "cell_type": "code",
      "metadata": {},
      "execution_count": null,
      "outputs": [],
      "source": [
        "import numpy as np\ndef lcs(a,b):\n    n,m=len(a),len(b)\n    dp=np.zeros((n+1,m+1),dtype=int)\n    for i in range(1,n+1):\n        for j in range(1,m+1):\n            if a[i-1]==b[j-1]:\n                dp[i,j]=dp[i-1,j-1]+1\n            else:\n                dp[i,j]=max(dp[i-1,j],dp[i,j-1])\n    return dp[n,m], dp\n\na,b=\"ABCBDAB\",\"BDCABA\"\nans, dp=lcs(a,b)\nprint(\"Answer:\", ans)\n"
      ]
    },
    {
      "cell_type": "code",
      "metadata": {},
      "execution_count": null,
      "outputs": [],
      "source": [
        "import matplotlib.pyplot as plt\nplt.imshow(dp, cmap=\"Blues\", interpolation=\"nearest\")\nplt.colorbar(label=\"LCS length\")\nplt.title(\"LCS DP Table\")\nplt.show()\n"
      ]
    }
  ],
  "metadata": {
    "kernelspec": {
      "display_name": "Python 3",
      "language": "python",
      "name": "python3"
    },
    "language_info": {
      "name": "python"
    }
  },
  "nbformat": 4,
  "nbformat_minor": 5
}