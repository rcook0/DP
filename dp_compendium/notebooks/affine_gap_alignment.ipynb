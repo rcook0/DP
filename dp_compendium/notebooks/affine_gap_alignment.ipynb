{
  "cells": [
    {
      "cell_type": "markdown",
      "metadata": {},
      "source": [
        "# Sequence Alignment with Affine Gaps\n\nClassic three-matrix DP: M (match/mismatch), Ix (gap in a), Iy (gap in b). Returns optimal score.\n"
      ]
    },
    {
      "cell_type": "code",
      "metadata": {},
      "execution_count": null,
      "outputs": [],
      "source": [
        "from affine_gap_alignment import needleman_wunsch_affine\nneedleman_wunsch_affine('GATTACA','GCATGCU')\n"
      ]
    }
  ],
  "metadata": {
    "kernelspec": {
      "display_name": "Python 3",
      "language": "python",
      "name": "python3"
    },
    "language_info": {
      "name": "python"
    }
  },
  "nbformat": 4,
  "nbformat_minor": 5
}