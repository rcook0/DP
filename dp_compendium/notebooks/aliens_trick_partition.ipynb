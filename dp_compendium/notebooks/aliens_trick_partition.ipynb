{
  "cells": [
    {
      "cell_type": "markdown",
      "metadata": {},
      "source": [
        "# Alien's Trick (parametric search)\n\nBinary search on the answer with greedy feasibility: minimize the largest subarray sum with ≤k partitions.\n"
      ]
    },
    {
      "cell_type": "code",
      "metadata": {},
      "execution_count": null,
      "outputs": [],
      "source": [
        "from aliens_trick_partition import minimize_largest_sum\nminimize_largest_sum([7,2,5,10,8], 2)\n"
      ]
    }
  ],
  "metadata": {
    "kernelspec": {
      "display_name": "Python 3",
      "language": "python",
      "name": "python3"
    },
    "language_info": {
      "name": "python"
    }
  },
  "nbformat": 4,
  "nbformat_minor": 5
}