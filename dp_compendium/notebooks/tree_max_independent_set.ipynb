{
  "cells": [
    {
      "cell_type": "markdown",
      "metadata": {},
      "source": [
        "# Tree Maximum Independent Set\n\nState: `dp[u][0/1]` exclude/include u; tree DP via DFS.\n"
      ]
    },
    {
      "cell_type": "code",
      "metadata": {},
      "execution_count": null,
      "outputs": [],
      "source": [
        "from collections import defaultdict\ndef tree_mis(n, edges):\n    g=defaultdict(list)\n    for u,v in edges:\n        g[u].append(v); g[v].append(u)\n    dp=[[0,0] for _ in range(n)]; vis=[False]*n\n    def dfs(u):\n        vis[u]=True; dp[u][1]=1\n        for v in g[u]:\n            if not vis[v]:\n                dfs(v); dp[u][0]+=max(dp[v]); dp[u][1]+=dp[v][0]\n    dfs(0); return max(dp[0]), dp\n\nn=6; edges=[(0,1),(0,2),(1,3),(1,4),(2,5)]\nans, dp = tree_mis(n, edges); print(\"MIS size:\", ans)\n"
      ]
    },
    {
      "cell_type": "code",
      "metadata": {},
      "execution_count": null,
      "outputs": [],
      "source": [
        "# Visualization omitted (no graph libs guaranteed). Result printed above.\nprint(\"DP rows are [exclude, include] per node (see variable 'dp').\")\n"
      ]
    }
  ],
  "metadata": {
    "kernelspec": {
      "display_name": "Python 3",
      "language": "python",
      "name": "python3"
    },
    "language_info": {
      "name": "python"
    }
  },
  "nbformat": 4,
  "nbformat_minor": 5
}