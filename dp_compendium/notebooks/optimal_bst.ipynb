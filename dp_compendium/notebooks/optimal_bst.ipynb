{
  "cells": [
    {
      "cell_type": "markdown",
      "metadata": {},
      "source": [
        "# Optimal BST\n\nState: `dp[i][j]` min expected cost with frequencies; use prefix sums.\n"
      ]
    },
    {
      "cell_type": "code",
      "metadata": {},
      "execution_count": null,
      "outputs": [],
      "source": [
        "def optimal_bst(freq):\n    n=len(freq); dp=[[0]*n for _ in range(n)]\n    pref=[0]\n    for f in freq: pref.append(pref[-1]+f)\n    def sumf(i,j): return pref[j+1]-pref[i]\n    for L in range(1, n+1):\n        for i in range(0, n-L+1):\n            j=i+L-1; best=float('inf')\n            for r in range(i,j+1):\n                left=0 if r==i else dp[i][r-1]\n                right=0 if r==j else dp[r+1][j]\n                best=min(best, left+right+sumf(i,j))\n            dp[i][j]=best\n    return dp[0][n-1], dp\n\nfreq=[34,8,50]\ncost, dp = optimal_bst(freq); print(\"Cost:\", cost)\n"
      ]
    },
    {
      "cell_type": "code",
      "metadata": {},
      "execution_count": null,
      "outputs": [],
      "source": [
        "import matplotlib.pyplot as plt, numpy as np\nplt.imshow(np.array(dp), cmap=\"Oranges\")\nplt.colorbar(label=\"Cost\"); plt.title(\"Optimal BST DP Table\")\nplt.show()\n"
      ]
    }
  ],
  "metadata": {
    "kernelspec": {
      "display_name": "Python 3",
      "language": "python",
      "name": "python3"
    },
    "language_info": {
      "name": "python"
    }
  },
  "nbformat": 4,
  "nbformat_minor": 5
}