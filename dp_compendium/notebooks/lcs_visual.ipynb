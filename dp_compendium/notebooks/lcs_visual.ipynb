{
  "cells": [
    {
      "cell_type": "markdown",
      "metadata": {},
      "source": [
        "# LCS DP Table Visualization\n",
        "Builds the LCS DP table and visualizes it using matplotlib.\n"
      ]
    },
    {
      "cell_type": "code",
      "metadata": {},
      "execution_count": null,
      "outputs": [],
      "source": [
        "import numpy as np\n",
        "import matplotlib.pyplot as plt\n",
        "a='ABCBDAB'; b='BDCABA'\n",
        "n,m=len(a),len(b)\n",
        "dp=np.zeros((n+1,m+1),dtype=int)\n",
        "for i in range(1,n+1):\n",
        "    for j in range(1,m+1):\n",
        "        if a[i-1]==b[j-1]: dp[i,j]=dp[i-1,j-1]+1\n",
        "        else: dp[i,j]=max(dp[i-1,j],dp[i,j-1])\n",
        "plt.figure(figsize=(6,4))\n",
        "plt.imshow(dp, interpolation='nearest')\n",
        "plt.title('LCS DP Table')\n",
        "plt.xlabel('j (b)'); plt.ylabel('i (a)')\n",
        "plt.colorbar(label='LCS length')\n",
        "plt.show()\n"
      ]
    }
  ],
  "metadata": {
    "kernelspec": {
      "display_name": "Python 3",
      "language": "python",
      "name": "python3"
    },
    "language_info": {
      "name": "python"
    }
  },
  "nbformat": 4,
  "nbformat_minor": 5
}