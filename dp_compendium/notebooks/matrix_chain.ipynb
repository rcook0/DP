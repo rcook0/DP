{
  "cells": [
    {
      "cell_type": "markdown",
      "metadata": {},
      "source": [
        "# Matrix Chain Multiplication\n\nState: `dp[i][j]` min cost; `split[i][j]` for parenthesization.\n"
      ]
    },
    {
      "cell_type": "code",
      "metadata": {},
      "execution_count": null,
      "outputs": [],
      "source": [
        "def matrix_chain_parenthesize(p):\n    n=len(p)-1\n    dp=[[0]*(n+1) for _ in range(n+1)]\n    split=[[0]*(n+1) for _ in range(n+1)]\n    for L in range(2, n+1):\n        for i in range(1, n-L+2):\n            j=i+L-1; dp[i][j]=float('inf')\n            for k in range(i, j):\n                cost=dp[i][k]+dp[k+1][j]+p[i-1]*p[k]*p[j]\n                if cost<dp[i][j]: dp[i][j]=cost; split[i][j]=k\n    def build(i,j):\n        if i==j: return f\"A{i}\"\n        k=split[i][j]\n        return f\"({build(i,k)}{build(k+1,j)})\"\n    return dp[1][n], build(1,n), dp\n\np=[30,35,15,5,10,20,25]\ncost, parens, dp = matrix_chain_parenthesize(p)\nprint(\"Cost:\", cost, \"Parens:\", parens)\n"
      ]
    },
    {
      "cell_type": "code",
      "metadata": {},
      "execution_count": null,
      "outputs": [],
      "source": [
        "import matplotlib.pyplot as plt, numpy as np\nplt.imshow(np.array(dp), cmap=\"Greens\")\nplt.colorbar(label=\"Cost\"); plt.title(\"Matrix Chain DP (partial table)\")\nplt.show()\n"
      ]
    }
  ],
  "metadata": {
    "kernelspec": {
      "display_name": "Python 3",
      "language": "python",
      "name": "python3"
    },
    "language_info": {
      "name": "python"
    }
  },
  "nbformat": 4,
  "nbformat_minor": 5
}