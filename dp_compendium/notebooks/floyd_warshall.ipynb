{
  "cells": [
    {
      "cell_type": "markdown",
      "metadata": {},
      "source": [
        "# Floyd–Warshall (All-Pairs Shortest Paths)\n\nIteratively relax via intermediate k; also reconstruct path with successor matrix.\n"
      ]
    },
    {
      "cell_type": "code",
      "metadata": {},
      "execution_count": null,
      "outputs": [],
      "source": [
        "def floyd_warshall_with_path(dist):\n    n=len(dist); nxt=[[None]*n for _ in range(n)]\n    BIG=10**9\n    for i in range(n):\n        for j in range(n):\n            if i!=j and dist[i][j]<BIG: nxt[i][j]=j\n    for k in range(n):\n        for i in range(n):\n            for j in range(n):\n                if dist[i][k]+dist[k][j] < dist[i][j]:\n                    dist[i][j]=dist[i][k]+dist[k][j]\n                    nxt[i][j]=nxt[i][k]\n    return dist, nxt\n\ndef reconstruct_path(nxt, u, v):\n    if nxt[u][v] is None: return []\n    path=[u]\n    while u!=v:\n        u=nxt[u][v]\n        if u is None: return []\n        path.append(u)\n    return path\n\nINF=10**6\ndist=[[0,3,INF,7],[8,0,2,INF],[5,INF,0,1],[2,INF,INF,0]]\nD, nxt = floyd_warshall_with_path(dist)\nprint(\"dist 0->3:\", D[0][3], \"path:\", reconstruct_path(nxt,0,3))\n"
      ]
    },
    {
      "cell_type": "code",
      "metadata": {},
      "execution_count": null,
      "outputs": [],
      "source": [
        "import matplotlib.pyplot as plt\nimport numpy as np\nplt.imshow(np.array(D, dtype=float), interpolation='nearest')\nplt.colorbar(label='distance'); plt.title('Floyd–Warshall Distances')\nplt.show()\n"
      ]
    }
  ],
  "metadata": {
    "kernelspec": {
      "display_name": "Python 3",
      "language": "python",
      "name": "python3"
    },
    "language_info": {
      "name": "python"
    }
  },
  "nbformat": 4,
  "nbformat_minor": 5
}