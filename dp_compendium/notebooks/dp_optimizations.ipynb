{
  "cells": [
    {
      "cell_type": "markdown",
      "metadata": {},
      "source": [
        "# DP Optimizations: Knuth & Divide&Conquer\n\nTwo speed-ups: Knuth optimization for quadrangle-inequality interval DP, and monotone Divide&Conquer optimization.\n"
      ]
    },
    {
      "cell_type": "code",
      "metadata": {},
      "execution_count": null,
      "outputs": [],
      "source": [
        "from dp_optimizations import knuth_opt_slimes, dc_opt_dp\nknuth_opt_slimes([3,2,4,1])\narr=[3,1,4,1,5,9]\np=[0]\nfor x in arr: p.append(p[-1]+x)\nC=lambda i,j: (p[j]-p[i])**2\ndc_opt_dp(C, len(arr), 3)\n"
      ]
    }
  ],
  "metadata": {
    "kernelspec": {
      "display_name": "Python 3",
      "language": "python",
      "name": "python3"
    },
    "language_info": {
      "name": "python"
    }
  },
  "nbformat": 4,
  "nbformat_minor": 5
}