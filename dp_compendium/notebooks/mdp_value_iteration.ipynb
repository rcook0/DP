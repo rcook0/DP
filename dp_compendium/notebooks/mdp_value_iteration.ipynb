{
  "cells": [
    {
      "cell_type": "markdown",
      "metadata": {},
      "source": [
        "# MDP Value Iteration (Toy)\n\nGeneric value iteration; prints values/policy.\n"
      ]
    },
    {
      "cell_type": "code",
      "metadata": {},
      "execution_count": null,
      "outputs": [],
      "source": [
        "from mdp_value_iteration import value_iteration\nS=['A','B','C']\nA={'A':['stay','go'],'B':['stay','go'],'C':['stay']}\n\ndef P(s,a):\n    if s=='A' and a=='go': return [(0.7,'B'),(0.3,'C')]\n    if s=='B' and a=='go': return [(0.6,'C'),(0.4,'A')]\n    return [(1.0,s)]\n\ndef R(s,a,sp):\n    return 1.0 if sp=='C' else 0.0\nV,pi=value_iteration(S,A,P,R,0.9)\nprint(V); print(pi)\n"
      ]
    },
    {
      "cell_type": "code",
      "metadata": {},
      "execution_count": null,
      "outputs": [],
      "source": [
        "print('Try adjusting gamma or rewards.')\n"
      ]
    }
  ],
  "metadata": {
    "kernelspec": {
      "display_name": "Python 3",
      "language": "python",
      "name": "python3"
    },
    "language_info": {
      "name": "python"
    }
  },
  "nbformat": 4,
  "nbformat_minor": 5
}