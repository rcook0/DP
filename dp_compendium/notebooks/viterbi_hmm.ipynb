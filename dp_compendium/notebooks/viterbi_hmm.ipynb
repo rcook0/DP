{
  "cells": [
    {
      "cell_type": "markdown",
      "metadata": {},
      "source": [
        "# Viterbi Algorithm (HMM decoding)\n\nDecode the most likely hidden state sequence given observations and HMM parameters.\n"
      ]
    },
    {
      "cell_type": "code",
      "metadata": {},
      "execution_count": null,
      "outputs": [],
      "source": [
        "from viterbi_hmm import viterbi\nstates=['H','C']\nstart={'H':0.6,'C':0.4}\ntrans={'H':{'H':0.7,'C':0.3},'C':{'H':0.4,'C':0.6}}\nemit={'H':{'A':0.2,'B':0.8},'C':{'A':0.5,'B':0.5}}\nviterbi(states,start,trans,emit,['A','B','A','B'])\n"
      ]
    }
  ],
  "metadata": {
    "kernelspec": {
      "display_name": "Python 3",
      "language": "python",
      "name": "python3"
    },
    "language_info": {
      "name": "python"
    }
  },
  "nbformat": 4,
  "nbformat_minor": 5
}