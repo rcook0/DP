{
  "cells": [
    {
      "cell_type": "markdown",
      "metadata": {},
      "source": [
        "# Digit DP: no adjacent zeros\n\nCounts numbers x ∈ [0..N] whose decimal representation has no two consecutive zeros (ignoring leading zeros).\n"
      ]
    },
    {
      "cell_type": "code",
      "metadata": {},
      "execution_count": null,
      "outputs": [],
      "source": [
        "from digit_dp_no_adjacent_zeros import count_no_adjacent_zeros\ncount_no_adjacent_zeros(1000)\n"
      ]
    }
  ],
  "metadata": {
    "kernelspec": {
      "display_name": "Python 3",
      "language": "python",
      "name": "python3"
    },
    "language_info": {
      "name": "python"
    }
  },
  "nbformat": 4,
  "nbformat_minor": 5
}