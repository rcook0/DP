{
  "cells": [
    {
      "cell_type": "markdown",
      "metadata": {},
      "source": [
        "# Minimum Polygon Triangulation (area constraint)\n\nTriangulates a convex polygon minimizing total perimeter, requiring each triangle area ≥ threshold.\n"
      ]
    },
    {
      "cell_type": "code",
      "metadata": {},
      "execution_count": null,
      "outputs": [],
      "source": [
        "from polygon_triangulation_area_constraint import min_triangulation_perimeter_with_min_area\npoly=[(0,0),(2,0),(3,1),(2,2),(0,2)]\nmin_triangulation_perimeter_with_min_area(poly,0.0)\n"
      ]
    }
  ],
  "metadata": {
    "kernelspec": {
      "display_name": "Python 3",
      "language": "python",
      "name": "python3"
    },
    "language_info": {
      "name": "python"
    }
  },
  "nbformat": 4,
  "nbformat_minor": 5
}