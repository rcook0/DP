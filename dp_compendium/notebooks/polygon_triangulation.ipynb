{
  "cells": [
    {
      "cell_type": "markdown",
      "metadata": {},
      "source": [
        "# Minimum Weight Triangulation (Convex Polygon)\n\nState: `dp[i][j]` min triangulation cost; cost = sum squared edge lengths.\n"
      ]
    },
    {
      "cell_type": "code",
      "metadata": {},
      "execution_count": null,
      "outputs": [],
      "source": [
        "def triangulation(points):\n    def d2(a,b): return (a[0]-b[0])**2+(a[1]-b[1])**2\n    def tri(i,j,k): \n        a,b,c=points[i],points[j],points[k]\n        return d2(a,b)+d2(b,c)+d2(c,a)\n    n=len(points); dp=[[0]*n for _ in range(n)]; choice=[[None]*n for _ in range(n)]\n    for L in range(3, n+1):\n        for i in range(n-L+1):\n            j=i+L-1; best=float('inf'); pick=None\n            for k in range(i+1,j):\n                cost=dp[i][k]+dp[k][j]+tri(i,k,j)\n                if cost<best: best=cost; pick=k\n            dp[i][j]=best; choice[i][j]=pick\n    return dp[0][n-1], choice\n\npoints=[(0,0),(2,0),(3,1),(2,2),(0,2)]\ncost, choice = triangulation(points); print(\"Cost:\", cost)\n"
      ]
    },
    {
      "cell_type": "code",
      "metadata": {},
      "execution_count": null,
      "outputs": [],
      "source": [
        "import matplotlib.pyplot as plt\npoints=[(0,0),(2,0),(3,1),(2,2),(0,2)]\nxs=[p[0] for p in points]+[points[0][0]]\nys=[p[1] for p in points]+[points[0][1]]\nplt.plot(xs, ys, marker='o')\nplt.title(\"Convex Polygon (example)\")\nplt.axis('equal'); plt.show()\n"
      ]
    }
  ],
  "metadata": {
    "kernelspec": {
      "display_name": "Python 3",
      "language": "python",
      "name": "python3"
    },
    "language_info": {
      "name": "python"
    }
  },
  "nbformat": 4,
  "nbformat_minor": 5
}