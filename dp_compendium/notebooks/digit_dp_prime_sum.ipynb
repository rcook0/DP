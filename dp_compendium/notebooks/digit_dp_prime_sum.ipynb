{
  "cells": [
    {
      "cell_type": "markdown",
      "metadata": {},
      "source": [
        "# Digit DP: prime digit sum\n\nCounts numbers x ∈ [0..N] whose digit sum is prime.\n"
      ]
    },
    {
      "cell_type": "code",
      "metadata": {},
      "execution_count": null,
      "outputs": [],
      "source": [
        "from digit_dp_prime_sum import count_prime_digit_sum\ncount_prime_digit_sum(1000)\n"
      ]
    }
  ],
  "metadata": {
    "kernelspec": {
      "display_name": "Python 3",
      "language": "python",
      "name": "python3"
    },
    "language_info": {
      "name": "python"
    }
  },
  "nbformat": 4,
  "nbformat_minor": 5
}