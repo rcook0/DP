{
  "cells": [
    {
      "cell_type": "markdown",
      "metadata": {},
      "source": [
        "# Dynamic Time Warping (DTW)\n\nState: `dp[i][j] = |a[i]-b[j]| + min` of neighbors.\n"
      ]
    },
    {
      "cell_type": "code",
      "metadata": {},
      "execution_count": null,
      "outputs": [],
      "source": [
        "def dtw(a,b):\n    n,m=len(a),len(b)\n    INF=10**9\n    dp=[[INF]*(m+1) for _ in range(n+1)]\n    dp[0][0]=0\n    for i in range(1,n+1):\n        for j in range(1,m+1):\n            cost=abs(a[i-1]-b[j-1])\n            dp[i][j]=cost+min(dp[i-1][j], dp[i][j-1], dp[i-1][j-1])\n    return dp[n][m], dp\n\na=[1,2,3,3,2,0]; b=[0,1,1,2,3,3]\ndist, dp = dtw(a,b); print(\"DTW distance:\", dist)\n"
      ]
    },
    {
      "cell_type": "code",
      "metadata": {},
      "execution_count": null,
      "outputs": [],
      "source": [
        "import matplotlib.pyplot as plt, numpy as np\nplt.imshow(np.array(dp), cmap=\"magma\")\nplt.colorbar(label=\"Accumulated cost\"); plt.title(\"DTW DP Table\")\nplt.show()\n"
      ]
    }
  ],
  "metadata": {
    "kernelspec": {
      "display_name": "Python 3",
      "language": "python",
      "name": "python3"
    },
    "language_info": {
      "name": "python"
    }
  },
  "nbformat": 4,
  "nbformat_minor": 5
}