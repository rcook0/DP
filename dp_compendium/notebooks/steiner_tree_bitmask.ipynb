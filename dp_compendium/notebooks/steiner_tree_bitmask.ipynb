{
  "cells": [
    {
      "cell_type": "markdown",
      "metadata": {},
      "source": [
        "# Minimum Steiner Tree (Bitmask DP)\n\nBitmask DP over terminals with Dijkstra relaxations per mask.\n"
      ]
    },
    {
      "cell_type": "code",
      "metadata": {},
      "execution_count": null,
      "outputs": [],
      "source": [
        "from steiner_tree_bitmask import steiner_tree_cost\nn=4\nedges=[(0,1,1),(1,2,1),(2,3,1),(3,0,1),(0,2,2),(1,3,2)]\nprint(steiner_tree_cost(n, edges, [0,2]))\n"
      ]
    },
    {
      "cell_type": "code",
      "metadata": {},
      "execution_count": null,
      "outputs": [],
      "source": [
        "print('Done')\n"
      ]
    }
  ],
  "metadata": {
    "kernelspec": {
      "display_name": "Python 3",
      "language": "python",
      "name": "python3"
    },
    "language_info": {
      "name": "python"
    }
  },
  "nbformat": 4,
  "nbformat_minor": 5
}