{
  "cells": [
    {
      "cell_type": "markdown",
      "metadata": {},
      "source": [
        "# Floyd–Warshall Visualization\n",
        "Compute all-pairs shortest paths and visualize the distance matrix.\n"
      ]
    },
    {
      "cell_type": "code",
      "metadata": {},
      "execution_count": null,
      "outputs": [],
      "source": [
        "import numpy as np\n",
        "import matplotlib.pyplot as plt\n",
        "INF=10**6\n",
        "dist=np.array([[0,3,INF,7],[8,0,2,INF],[5,INF,0,1],[2,INF,INF,0]], dtype=float)\n",
        "n=dist.shape[0]\n",
        "for k in range(n):\n",
        "    for i in range(n):\n",
        "        for j in range(n):\n",
        "            if dist[i,k]+dist[k,j] < dist[i,j]: dist[i,j]=dist[i,k]+dist[k,j]\n",
        "plt.figure(figsize=(5,4))\n",
        "plt.imshow(dist, interpolation='nearest')\n",
        "plt.title('All-Pairs Shortest Path Distances')\n",
        "plt.xlabel('j'); plt.ylabel('i')\n",
        "plt.colorbar(label='distance')\n",
        "plt.show()\n"
      ]
    }
  ],
  "metadata": {
    "kernelspec": {
      "display_name": "Python 3",
      "language": "python",
      "name": "python3"
    },
    "language_info": {
      "name": "python"
    }
  },
  "nbformat": 4,
  "nbformat_minor": 5
}