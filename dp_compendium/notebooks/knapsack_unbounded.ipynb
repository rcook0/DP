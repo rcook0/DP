{
  "cells": [
    {
      "cell_type": "markdown",
      "metadata": {},
      "source": [
        "# Unbounded Knapsack\n\nState: `dp[w] = max value` allowing unlimited items.\n"
      ]
    },
    {
      "cell_type": "code",
      "metadata": {},
      "execution_count": null,
      "outputs": [],
      "source": [
        "def knapsack_unbounded(values, weights, W):\n    dp=[0]*(W+1)\n    for cap in range(W+1):\n        for v,w in zip(values,weights):\n            if w<=cap:\n                dp[cap]=max(dp[cap], dp[cap-w]+v)\n    return dp[W], dp\n\nvalues=[10,30,20]; weights=[5,10,15]; W=60\nans, dp=knapsack_unbounded(values, weights, W); print(\"Best:\", ans)\n"
      ]
    },
    {
      "cell_type": "code",
      "metadata": {},
      "execution_count": null,
      "outputs": [],
      "source": [
        "import matplotlib.pyplot as plt\nplt.plot(range(len(dp)), dp)\nplt.title(\"Unbounded Knapsack DP\"); plt.xlabel(\"Capacity\"); plt.ylabel(\"Max Value\")\nplt.show()\n"
      ]
    }
  ],
  "metadata": {
    "kernelspec": {
      "display_name": "Python 3",
      "language": "python",
      "name": "python3"
    },
    "language_info": {
      "name": "python"
    }
  },
  "nbformat": 4,
  "nbformat_minor": 5
}