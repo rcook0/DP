{
  "cells": [
    {
      "cell_type": "markdown",
      "metadata": {},
      "source": [
        "# Digit DP: digit-sum ≡ 0 (mod K)\n\nCounts numbers x ∈ [0..N] with digit sum divisible by K.\n"
      ]
    },
    {
      "cell_type": "code",
      "metadata": {},
      "execution_count": null,
      "outputs": [],
      "source": [
        "from digit_dp_sum_mod_k import count_sum_divisible_by_k\ncount_sum_divisible_by_k(1000,3)\n"
      ]
    }
  ],
  "metadata": {
    "kernelspec": {
      "display_name": "Python 3",
      "language": "python",
      "name": "python3"
    },
    "language_info": {
      "name": "python"
    }
  },
  "nbformat": 4,
  "nbformat_minor": 5
}