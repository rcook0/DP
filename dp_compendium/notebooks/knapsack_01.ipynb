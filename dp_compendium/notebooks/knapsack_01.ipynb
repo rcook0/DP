{
  "cells": [
    {
      "cell_type": "markdown",
      "metadata": {},
      "source": [
        "# 0/1 Knapsack\n\nGiven weights and values, maximize value with weight limit.\n\nState: `dp[w] = max value with capacity w`\n\nRecurrence: `dp[w] = max(dp[w], dp[w-wt[i]]+val[i])` iterating backwards for 0/1.\n"
      ]
    },
    {
      "cell_type": "code",
      "metadata": {},
      "execution_count": null,
      "outputs": [],
      "source": [
        "def knapsack(values, weights, W):\n    n=len(values)\n    dp=[0]*(W+1)\n    for i in range(n):\n        v,w = values[i], weights[i]\n        for cap in range(W, w-1, -1):\n            dp[cap] = max(dp[cap], dp[cap-w]+v)\n    return dp[W], dp\n\nvalues=[60,100,120]; weights=[10,20,30]; W=50\nans, dp = knapsack(values, weights, W)\nprint(\"Answer:\", ans)\n"
      ]
    },
    {
      "cell_type": "code",
      "metadata": {},
      "execution_count": null,
      "outputs": [],
      "source": [
        "import matplotlib.pyplot as plt\nplt.plot(dp, marker=\"o\")\nplt.title(\"0/1 Knapsack DP by capacity\")\nplt.xlabel(\"Capacity\"); plt.ylabel(\"Value\")\nplt.show()\n"
      ]
    }
  ],
  "metadata": {
    "kernelspec": {
      "display_name": "Python 3",
      "language": "python",
      "name": "python3"
    },
    "language_info": {
      "name": "python"
    }
  },
  "nbformat": 4,
  "nbformat_minor": 5
}